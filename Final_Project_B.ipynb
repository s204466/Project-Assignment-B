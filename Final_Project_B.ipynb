{
 "cells": [
  {
   "cell_type": "markdown",
   "id": "f957bd43",
   "metadata": {},
   "source": [
    "intro text"
   ]
  },
  {
   "cell_type": "code",
   "execution_count": 6,
   "id": "4603b42e",
   "metadata": {
    "scrolled": false
   },
   "outputs": [],
   "source": [
    "import pandas as pd\n",
    "import numpy as np\n",
    "from matplotlib import pyplot as plt\n",
    "\n",
    "data95 = pd.read_csv(\"../1995_Street_Tree_Census.csv\", low_memory=False)\n",
    "data05 = pd.read_csv(\"../2005_Street_Tree_Census.csv\", low_memory=False)\n",
    "data15 = pd.read_csv(\"../2015_Street_Tree_Census.csv\", low_memory=False)\n"
   ]
  }
 ],
 "metadata": {
  "kernelspec": {
   "display_name": "Python 3 (ipykernel)",
   "language": "python",
   "name": "python3"
  },
  "language_info": {
   "codemirror_mode": {
    "name": "ipython",
    "version": 3
   },
   "file_extension": ".py",
   "mimetype": "text/x-python",
   "name": "python",
   "nbconvert_exporter": "python",
   "pygments_lexer": "ipython3",
   "version": "3.9.13"
  }
 },
 "nbformat": 4,
 "nbformat_minor": 5
}
